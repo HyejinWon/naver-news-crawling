{
 "cells": [
  {
   "cell_type": "code",
   "execution_count": 2,
   "metadata": {},
   "outputs": [
    {
     "name": "stderr",
     "output_type": "stream",
     "text": [
      "/home/hyejin/ten_venv/lib/python3.7/site-packages/pandas/compat/__init__.py:85: UserWarning: Could not import the lzma module. Your installed Python is incomplete. Attempting to use lzma compression will result in a RuntimeError.\n",
      "  warnings.warn(msg)\n",
      "/home/hyejin/ten_venv/lib/python3.7/site-packages/pandas/compat/__init__.py:85: UserWarning: Could not import the lzma module. Your installed Python is incomplete. Attempting to use lzma compression will result in a RuntimeError.\n",
      "  warnings.warn(msg)\n"
     ]
    }
   ],
   "source": [
    "import urllib\n",
    "import urllib.request\n",
    "import urllib.parse\n",
    "import bs4\n",
    "import re\n",
    "import requests\n",
    "import pandas as pd\n",
    "from tqdm import tqdm"
   ]
  },
  {
   "cell_type": "code",
   "execution_count": 237,
   "metadata": {},
   "outputs": [
    {
     "name": "stdout",
     "output_type": "stream",
     "text": [
      "68\n"
     ]
    }
   ],
   "source": [
    "keywords = ['서울시', '전두환','조국', '지소미아', '임종석', '구조조정', \n",
    "           '교과서', '여경', '지방선거', '트럼프', \n",
    "           '여소야대', '판문점', '야권', '홍익표', '이낙연', \n",
    "           '공천', '정당', '재보궐', '공수처', '총선', \n",
    "           '홍준표', '광화문', '최저시급', '대북제재', '탈북민', \n",
    "           '윤상직', '삭발', '손혜원', '패스트트랙', '김영삼', \n",
    "           '파업', '위안부', '박원순', '비핵화', '연금', \n",
    "           '검찰개혁', '아베', '주한미군', '중국', '박근혜', \n",
    "           '난민', '문재인', '불매', '대출', '선거법', \n",
    "           'FTA', '공무원', '노총', '미사일', '부동산', \n",
    "           '유출', '채용비리', '김영란법', '황교안', '보수', \n",
    "           '최저임금', '세월호', '개헌안', '유시민', '진보', \n",
    "           '유승민', '하명수사', '국정감사', '비리', '김기춘', \n",
    "           '복지', '사드', '이명박', '수출']\n",
    "\n",
    "print(len(keywords))"
   ]
  },
  {
   "cell_type": "code",
   "execution_count": 2,
   "metadata": {},
   "outputs": [],
   "source": [
    "keywords = ['사드','이명박','수출']"
   ]
  },
  {
   "cell_type": "code",
   "execution_count": 3,
   "metadata": {},
   "outputs": [
    {
     "name": "stdout",
     "output_type": "stream",
     "text": [
      "22\n"
     ]
    }
   ],
   "source": [
    "keywords=['코로나', '일본','김경수','민주당','5.18','타다','정세균','한국당',\n",
    "          '마스크','안철수','고민정','드루킹','메르스','나경원','진중권',\n",
    "         '추미애','강경화','정의당','필리버스터','배현진','심상정','김무성']\n",
    "\n",
    "print(len(keywords))"
   ]
  },
  {
   "cell_type": "code",
   "execution_count": 4,
   "metadata": {},
   "outputs": [],
   "source": [
    "def refresh_list():\n",
    "    time_list = [0.1,0.2,0.3,0.4,0.5]\n",
    "\n",
    "\n",
    "    total_press_list = []\n",
    "    total_keyword_list = []\n",
    "    total_title_list = []\n",
    "    total_ctgr_list = []\n",
    "    total_date_list = []\n",
    "    total_body_list = []\n",
    "    #total_unicode_list = []\n",
    "    #total_article_list = []\n",
    "    total_article_url = []\n",
    "\n",
    "    error_article_url = []\n",
    "    #none_article_url = []"
   ]
  },
  {
   "cell_type": "code",
   "execution_count": 7,
   "metadata": {},
   "outputs": [],
   "source": [
    "def naverCrawler(Query):\n",
    "    \n",
    "    \n",
    "    total_press_list = []\n",
    "    total_keyword_list = []\n",
    "    total_title_list = []\n",
    "    total_ctgr_list = []\n",
    "    total_date_list = []\n",
    "    total_body_list = []\n",
    "    #total_unicode_list = []\n",
    "    #total_article_list = []\n",
    "    total_article_url = []\n",
    "\n",
    "    error_article_url = []\n",
    "    #none_article_url = []\n",
    "    \n",
    "    page_num = 1\n",
    "    url = \"\"\n",
    "    headers = {'User-Agent':'Mozilla/5.0'}\n",
    "\n",
    "\n",
    "    #url = 'https://search.naver.com/search.naver?&where=news&query='+  str(urllib.parse.quote(Query)) +'&sort=0&photo=0&field=0&reporter_article=&pd=0&ds=&de=&docid=&nso=so:r,p:all,a:all&mynews=0&cluster_rank=0&start='+str(page_num)+'&refresh_start=0'\n",
    "    #url = 'https://search.naver.com/search.naver?&where=news&query='+str(urllib.parse.quote(Query))+'&sort=0&photo=0&field=0&reporter_article=&pd=0&ds=&de=&docid=&nso=so:r,p:all,a:all&mynews=0&cluster_rank=0&start=1&refresh_start=0'   \n",
    "    #page_num = page_num + 10\n",
    "    while page_num <= 3991:\n",
    "        url = 'https://search.naver.com/search.naver?&where=news&query='+str(urllib.parse.quote(Query))+'&sort=0&photo=0&field=0&reporter_article=&pd=0&ds=&de=&docid=&nso=so:r,p:all,a:all&mynews=0&cluster_rank=22&start='+str(page_num)+'&refresh_start=0'\n",
    "            # 1. 모바일 네이버 뉴스의 검색 목록 주소를 반복해서 들어간다.\n",
    "        #try:\n",
    "        req = urllib.request.Request(url, None, headers)\n",
    "        u = urllib.request.urlopen(req)\n",
    "        c = u.read().decode('utf-8')\n",
    "        soup = bs4.BeautifulSoup(c, \"html.parser\")\n",
    "\n",
    "        #sub기사들 url도 추출\n",
    "        article_list = soup.find_all('a',attrs = {'href' : re.compile('^https://news.naver'), 'class' :'_sp_each_url' })\n",
    "        link_list = [art.get('href') for art in article_list]\n",
    "\n",
    "        #print(len(link_list))  \n",
    "        # 목록 주소의 세부 기사 주소를 반복해서 들어간다.\n",
    "        for link in link_list:\n",
    "\n",
    "            try:\n",
    "                req = urllib.request.Request(link, None, headers)\n",
    "                u = urllib.request.urlopen(req)\n",
    "                c = u.read().decode('euc-kr')\n",
    "                soup2 = bs4.BeautifulSoup(c, \"html.parser\")\n",
    "\n",
    "                #print('---------------------')\n",
    "                total_keyword_list.append(Query)\n",
    "                #print(link) #스트링\n",
    "                total_article_url.append(link)\n",
    "\n",
    "                title = soup2.find('h3',{'id' : 'articleTitle'}).text\n",
    "                #print(title) 스트링\n",
    "                total_title_list.append(title)\n",
    "\n",
    "                date = soup2.find('span',{'class' : 't11'}).text.split()[0]\n",
    "                #print(date) 스트링\n",
    "                total_date_list.append(date)\n",
    "\n",
    "                #상단의 소제목 유무에 따라 다르게 split\n",
    "\n",
    "                if soup2.find('strong',{'class' : 'media_end_summary'}): #소제목 존재\n",
    "                    body_tag = str(soup2.find('div',{'class': '_article_body_contents'})).split('</strong>')[1:]\n",
    "                    #print('111')\n",
    "                    #print(len(body_tag))\n",
    "                    #print(body_tag)\n",
    "                    body = body_tag[0].replace('</div> </div>','////').replace('</div></div>','////').replace('<br/><br/>','////').replace('<br/> <br/>','////')\\\n",
    "                           .replace('<br/>\\xa0<br/>','////').replace('<br/>','////').replace('\\n','').replace('<img','<img<') #문단나누기\n",
    "                    body = re.split('////|</span>|<img|</table>', body) #문단나누기\n",
    "                    body = [_body.strip() for _body in body if len(_body) > 2]\n",
    "                    body = [_body for _body in body if (_body[0] != '<') and (_body[-6:] != '</div>') and ('</img>' not in _body)]\n",
    "\n",
    "                else : #소제목 없음\n",
    "                    body_tag = str(soup2.find('div',{'class': '_article_body_contents'})).split('</script>')[1:]\n",
    "                    #print('222')\n",
    "                    #print(len(body_tag))\n",
    "                    #print(body_tag)\n",
    "                    body = body_tag[0].replace('</div> </div>','////').replace('</div></div>','////').replace('<br/><br/>','////').replace('<br/> <br/>','////')\\\n",
    "                            .replace('<br/>\\xa0<br/>','////').replace('<br/>','////').replace('\\n','').replace('<img','<img<') #문단나누기\n",
    "                    body = re.split('////|</span>|<img|</table>', body) #문단나누기\n",
    "                    body = [_body.strip() for _body in body if len(_body) > 2]\n",
    "                    body = [_body for _body in body if (_body[0] != '<') and (_body[-6:] != '</div>') and ('</img>' not in _body)]\n",
    "\n",
    "                #print(body) # 리스트형태\n",
    "                total_body_list.append(body)\n",
    "\n",
    "                #body = [re.sub(\"<.*?>\",\"\",str(_body)) for _body in body]\n",
    "                #print(body)\n",
    "\n",
    "                press = soup2.find('div', {'class' : 'press_logo'}).find('img')['alt']\n",
    "                #print(press) 조선일보\n",
    "                total_press_list.append(press)\n",
    "\n",
    "                category = soup2.find_all('em',{'class' : 'guide_categorization_item'})\n",
    "                category = [cate.text for cate in category]\n",
    "                #print(category) ['정치']\n",
    "                total_ctgr_list.append(category)\n",
    "\n",
    "            except:\n",
    "                error_article_url.append(link)\n",
    "\n",
    "        page_num = page_num + 10\n",
    "        \n",
    "        \n",
    "    _list = list(zip(total_press_list, total_keyword_list,total_title_list, total_ctgr_list, total_date_list ,total_body_list, total_article_url))\n",
    "    \n",
    "    return _list\n",
    "\n",
    "#df = pd.DataFrame(_list, columns = ['press','keyword','title','category','date','body','url'])\n",
    "    \n",
    "    "
   ]
  },
  {
   "cell_type": "code",
   "execution_count": 8,
   "metadata": {
    "scrolled": true
   },
   "outputs": [
    {
     "name": "stderr",
     "output_type": "stream",
     "text": [
      "100%|██████████| 22/22 [8:16:38<00:00, 1354.49s/it]  \n"
     ]
    }
   ],
   "source": [
    "if __name__ == \"__main__\":\n",
    "    #query = \"조국\"\n",
    "    for query in tqdm(keywords):\n",
    "        dff2 = naverCrawler(query) #file이라는 인자가 들어간 crawler 함수를 호출\n",
    "        df = pd.DataFrame(dff2,  columns = ['press','keyword','title','category','date','body','url'])\n",
    "        df.to_csv(query+'data_df.csv', encoding='utf-8', header = True)"
   ]
  },
  {
   "cell_type": "code",
   "execution_count": 9,
   "metadata": {},
   "outputs": [
    {
     "data": {
      "text/plain": [
       "0"
      ]
     },
     "execution_count": 9,
     "metadata": {},
     "output_type": "execute_result"
    }
   ],
   "source": [
    "len(error_article_url)"
   ]
  },
  {
   "cell_type": "code",
   "execution_count": null,
   "metadata": {},
   "outputs": [],
   "source": [
    "dff = dff.append(dff2)"
   ]
  },
  {
   "cell_type": "code",
   "execution_count": null,
   "metadata": {},
   "outputs": [],
   "source": [
    "dff.to_csv('naver_news.csv', encoding='utf-8', header = True)"
   ]
  },
  {
   "cell_type": "markdown",
   "metadata": {},
   "source": []
  },
  {
   "cell_type": "code",
   "execution_count": 230,
   "metadata": {},
   "outputs": [],
   "source": [
    "dff.to_csv('naver_news_조국.csv', encoding='utf-8', header = True)"
   ]
  },
  {
   "cell_type": "code",
   "execution_count": 224,
   "metadata": {},
   "outputs": [
    {
     "name": "stdout",
     "output_type": "stream",
     "text": [
      "5428\n"
     ]
    }
   ],
   "source": [
    "print(len(dff))"
   ]
  },
  {
   "cell_type": "code",
   "execution_count": 233,
   "metadata": {},
   "outputs": [
    {
     "name": "stdout",
     "output_type": "stream",
     "text": [
      "5431\n"
     ]
    }
   ],
   "source": [
    "print(len(total_article_url))"
   ]
  },
  {
   "cell_type": "code",
   "execution_count": 234,
   "metadata": {},
   "outputs": [
    {
     "data": {
      "text/plain": [
       "'https://news.naver.com/main/read.nhn?mode=LSD&mid=sec&sid1=102&oid=079&aid=0003306989'"
      ]
     },
     "execution_count": 234,
     "metadata": {},
     "output_type": "execute_result"
    }
   ],
   "source": [
    "total_article_url[-1]"
   ]
  },
  {
   "cell_type": "code",
   "execution_count": 235,
   "metadata": {},
   "outputs": [
    {
     "data": {
      "text/plain": [
       "['사회']"
      ]
     },
     "execution_count": 235,
     "metadata": {},
     "output_type": "execute_result"
    }
   ],
   "source": [
    "total_ctgr_list[-1]"
   ]
  },
  {
   "cell_type": "code",
   "execution_count": 236,
   "metadata": {},
   "outputs": [
    {
     "data": {
      "text/plain": [
       "'서울대 조국 기소직후 \"직위해제 여부 검토 계획\"'"
      ]
     },
     "execution_count": 236,
     "metadata": {},
     "output_type": "execute_result"
    }
   ],
   "source": [
    "total_title_list[-1]"
   ]
  },
  {
   "cell_type": "code",
   "execution_count": 226,
   "metadata": {
    "scrolled": true
   },
   "outputs": [
    {
     "data": {
      "text/html": [
       "<div>\n",
       "<style scoped>\n",
       "    .dataframe tbody tr th:only-of-type {\n",
       "        vertical-align: middle;\n",
       "    }\n",
       "\n",
       "    .dataframe tbody tr th {\n",
       "        vertical-align: top;\n",
       "    }\n",
       "\n",
       "    .dataframe thead th {\n",
       "        text-align: right;\n",
       "    }\n",
       "</style>\n",
       "<table border=\"1\" class=\"dataframe\">\n",
       "  <thead>\n",
       "    <tr style=\"text-align: right;\">\n",
       "      <th></th>\n",
       "      <th>press</th>\n",
       "      <th>keyword</th>\n",
       "      <th>title</th>\n",
       "      <th>category</th>\n",
       "      <th>date</th>\n",
       "      <th>body</th>\n",
       "      <th>url</th>\n",
       "    </tr>\n",
       "  </thead>\n",
       "  <tbody>\n",
       "    <tr>\n",
       "      <th>0</th>\n",
       "      <td>서울경제</td>\n",
       "      <td>조국</td>\n",
       "      <td>[시그널] ‘조국 논란’ 익성, 투자자에 결국 100억 상환</td>\n",
       "      <td>[경제]</td>\n",
       "      <td>2020.02.03.</td>\n",
       "      <td>[[서울경제] 조국 전 법무부장관 가족이 투자한 사모펀드 관련 비리 의혹에 휩싸인 ...</td>\n",
       "      <td>https://news.naver.com/main/read.nhn?mode=LSD&amp;...</td>\n",
       "    </tr>\n",
       "    <tr>\n",
       "      <th>1</th>\n",
       "      <td>중앙일보</td>\n",
       "      <td>조국</td>\n",
       "      <td>[단독]조국 딸 조민 이름, KIST 50주년 기념조형물서 지운다</td>\n",
       "      <td>[경제]</td>\n",
       "      <td>2020.02.02.</td>\n",
       "      <td>[서울 홍릉 한국과학기술연구원(KIST) 50주년 기념조형물에 새겨진 조국 전 법무...</td>\n",
       "      <td>https://news.naver.com/main/read.nhn?mode=LSD&amp;...</td>\n",
       "    </tr>\n",
       "    <tr>\n",
       "      <th>2</th>\n",
       "      <td>연합뉴스</td>\n",
       "      <td>조국</td>\n",
       "      <td>KIST, 기념물에서 조국 전 장관 딸 이름 지우기로</td>\n",
       "      <td>[IT]</td>\n",
       "      <td>2020.02.02.</td>\n",
       "      <td>[(서울=연합뉴스) 신선미 기자 = 한국과학기술연구원(KIST) 50주년 기념조형물...</td>\n",
       "      <td>https://news.naver.com/main/read.nhn?mode=LSD&amp;...</td>\n",
       "    </tr>\n",
       "    <tr>\n",
       "      <th>3</th>\n",
       "      <td>MBC</td>\n",
       "      <td>조국</td>\n",
       "      <td>KIST, 기념물 명단에서 조국 전 장관 딸 이름 지우기로</td>\n",
       "      <td>[경제]</td>\n",
       "      <td>2020.02.02.</td>\n",
       "      <td>[한국과학기술연구원 KIST가 50주년 기념 조형물에 새긴 전현직근무자 명단에서 조...</td>\n",
       "      <td>https://news.naver.com/main/read.nhn?mode=LSD&amp;...</td>\n",
       "    </tr>\n",
       "    <tr>\n",
       "      <th>4</th>\n",
       "      <td>경향신문</td>\n",
       "      <td>조국</td>\n",
       "      <td>조국 딸 조민씨, 결국 KIST 기념조형물서 이름 삭제된다</td>\n",
       "      <td>[경제]</td>\n",
       "      <td>2020.02.02.</td>\n",
       "      <td>[한국과학기술연구원(KIST) 50주년 기념조형물에서 조국 전 법무부 장관의 딸인 ...</td>\n",
       "      <td>https://news.naver.com/main/read.nhn?mode=LSD&amp;...</td>\n",
       "    </tr>\n",
       "    <tr>\n",
       "      <th>...</th>\n",
       "      <td>...</td>\n",
       "      <td>...</td>\n",
       "      <td>...</td>\n",
       "      <td>...</td>\n",
       "      <td>...</td>\n",
       "      <td>...</td>\n",
       "      <td>...</td>\n",
       "    </tr>\n",
       "    <tr>\n",
       "      <th>5423</th>\n",
       "      <td>뉴시스</td>\n",
       "      <td>조국</td>\n",
       "      <td>조국 전 장관, 1월 중 첫 재판…부인 사건과 병합될까</td>\n",
       "      <td>[사회]</td>\n",
       "      <td>2020.01.06.</td>\n",
       "      <td>[[서울=뉴시스] 최동준 기자 = 조국 전 법무부 장관 구속 전 피의자 심문이 열린...</td>\n",
       "      <td>https://news.naver.com/main/read.nhn?mode=LSD&amp;...</td>\n",
       "    </tr>\n",
       "    <tr>\n",
       "      <th>5424</th>\n",
       "      <td>뉴시스</td>\n",
       "      <td>조국</td>\n",
       "      <td>檢수사에도 변함없는 ‘조국 사랑’ 드러낸 文대통령</td>\n",
       "      <td>[사회]</td>\n",
       "      <td>2020.01.14.</td>\n",
       "      <td>[[서울=뉴시스] 최동준 기자 = 조국 전 법무부 장관 구속 전 피의자 심문이 열린...</td>\n",
       "      <td>https://news.naver.com/main/read.nhn?mode=LSD&amp;...</td>\n",
       "    </tr>\n",
       "    <tr>\n",
       "      <th>5425</th>\n",
       "      <td>경향신문</td>\n",
       "      <td>조국</td>\n",
       "      <td>조국 구속 영장 기각 촉구하는 지지자들</td>\n",
       "      <td>[사회]</td>\n",
       "      <td>2019.12.26.</td>\n",
       "      <td>[경제정의실천시민연합(경실련)이 8일 조국 법무부장관 후보자의 자진 사퇴를 촉구했다...</td>\n",
       "      <td>https://news.naver.com/main/read.nhn?mode=LSD&amp;...</td>\n",
       "    </tr>\n",
       "    <tr>\n",
       "      <th>5426</th>\n",
       "      <td>KBS</td>\n",
       "      <td>조국</td>\n",
       "      <td>조국 구속 영장 기각 촉구하는 지지자들</td>\n",
       "      <td>[사회]</td>\n",
       "      <td>2019.12.26.</td>\n",
       "      <td>[[앵커], 조국 법무부 장관 관련 의혹을 수사 중인 검찰이 의혹을 수사하고 있는 ...</td>\n",
       "      <td>https://news.naver.com/main/read.nhn?mode=LSD&amp;...</td>\n",
       "    </tr>\n",
       "    <tr>\n",
       "      <th>5427</th>\n",
       "      <td>노컷뉴스</td>\n",
       "      <td>조국</td>\n",
       "      <td>조국 구속 영장 기각 촉구하는 지지자들</td>\n",
       "      <td>[사회]</td>\n",
       "      <td>2019.12.26.</td>\n",
       "      <td>[서울대가 뇌물수수 등 혐의로 31일 불구속 기소된 조국 전 법무부 장관에 대한 '...</td>\n",
       "      <td>https://news.naver.com/main/read.nhn?mode=LSD&amp;...</td>\n",
       "    </tr>\n",
       "  </tbody>\n",
       "</table>\n",
       "<p>5428 rows × 7 columns</p>\n",
       "</div>"
      ],
      "text/plain": [
       "     press keyword                                 title category  \\\n",
       "0     서울경제      조국     [시그널] ‘조국 논란’ 익성, 투자자에 결국 100억 상환     [경제]   \n",
       "1     중앙일보      조국  [단독]조국 딸 조민 이름, KIST 50주년 기념조형물서 지운다     [경제]   \n",
       "2     연합뉴스      조국         KIST, 기념물에서 조국 전 장관 딸 이름 지우기로     [IT]   \n",
       "3      MBC      조국      KIST, 기념물 명단에서 조국 전 장관 딸 이름 지우기로     [경제]   \n",
       "4     경향신문      조국      조국 딸 조민씨, 결국 KIST 기념조형물서 이름 삭제된다     [경제]   \n",
       "...    ...     ...                                   ...      ...   \n",
       "5423   뉴시스      조국        조국 전 장관, 1월 중 첫 재판…부인 사건과 병합될까     [사회]   \n",
       "5424   뉴시스      조국           檢수사에도 변함없는 ‘조국 사랑’ 드러낸 文대통령     [사회]   \n",
       "5425  경향신문      조국                 조국 구속 영장 기각 촉구하는 지지자들     [사회]   \n",
       "5426   KBS      조국                 조국 구속 영장 기각 촉구하는 지지자들     [사회]   \n",
       "5427  노컷뉴스      조국                 조국 구속 영장 기각 촉구하는 지지자들     [사회]   \n",
       "\n",
       "             date                                               body  \\\n",
       "0     2020.02.03.  [[서울경제] 조국 전 법무부장관 가족이 투자한 사모펀드 관련 비리 의혹에 휩싸인 ...   \n",
       "1     2020.02.02.  [서울 홍릉 한국과학기술연구원(KIST) 50주년 기념조형물에 새겨진 조국 전 법무...   \n",
       "2     2020.02.02.  [(서울=연합뉴스) 신선미 기자 = 한국과학기술연구원(KIST) 50주년 기념조형물...   \n",
       "3     2020.02.02.  [한국과학기술연구원 KIST가 50주년 기념 조형물에 새긴 전현직근무자 명단에서 조...   \n",
       "4     2020.02.02.  [한국과학기술연구원(KIST) 50주년 기념조형물에서 조국 전 법무부 장관의 딸인 ...   \n",
       "...           ...                                                ...   \n",
       "5423  2020.01.06.  [[서울=뉴시스] 최동준 기자 = 조국 전 법무부 장관 구속 전 피의자 심문이 열린...   \n",
       "5424  2020.01.14.  [[서울=뉴시스] 최동준 기자 = 조국 전 법무부 장관 구속 전 피의자 심문이 열린...   \n",
       "5425  2019.12.26.  [경제정의실천시민연합(경실련)이 8일 조국 법무부장관 후보자의 자진 사퇴를 촉구했다...   \n",
       "5426  2019.12.26.  [[앵커], 조국 법무부 장관 관련 의혹을 수사 중인 검찰이 의혹을 수사하고 있는 ...   \n",
       "5427  2019.12.26.  [서울대가 뇌물수수 등 혐의로 31일 불구속 기소된 조국 전 법무부 장관에 대한 '...   \n",
       "\n",
       "                                                    url  \n",
       "0     https://news.naver.com/main/read.nhn?mode=LSD&...  \n",
       "1     https://news.naver.com/main/read.nhn?mode=LSD&...  \n",
       "2     https://news.naver.com/main/read.nhn?mode=LSD&...  \n",
       "3     https://news.naver.com/main/read.nhn?mode=LSD&...  \n",
       "4     https://news.naver.com/main/read.nhn?mode=LSD&...  \n",
       "...                                                 ...  \n",
       "5423  https://news.naver.com/main/read.nhn?mode=LSD&...  \n",
       "5424  https://news.naver.com/main/read.nhn?mode=LSD&...  \n",
       "5425  https://news.naver.com/main/read.nhn?mode=LSD&...  \n",
       "5426  https://news.naver.com/main/read.nhn?mode=LSD&...  \n",
       "5427  https://news.naver.com/main/read.nhn?mode=LSD&...  \n",
       "\n",
       "[5428 rows x 7 columns]"
      ]
     },
     "execution_count": 226,
     "metadata": {},
     "output_type": "execute_result"
    }
   ],
   "source": [
    "dff"
   ]
  }
 ],
 "metadata": {
  "kernelspec": {
   "display_name": "local-venv",
   "language": "python",
   "name": "local-venv"
  },
  "language_info": {
   "codemirror_mode": {
    "name": "ipython",
    "version": 3
   },
   "file_extension": ".py",
   "mimetype": "text/x-python",
   "name": "python",
   "nbconvert_exporter": "python",
   "pygments_lexer": "ipython3",
   "version": "3.7.4"
  }
 },
 "nbformat": 4,
 "nbformat_minor": 2
}
